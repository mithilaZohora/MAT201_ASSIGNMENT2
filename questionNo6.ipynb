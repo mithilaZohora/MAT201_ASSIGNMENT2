{
 "cells": [
  {
   "cell_type": "markdown",
   "metadata": {},
   "source": [
    "6. Write a function called matches that takes two strings as arguments and returns how many matches there are between the strings. A match is where the two strings have the same character at the same index. For instance, ' python ' and ' path ' match in the first, third, and fourth characters, so the function should return 3."
   ]
  },
  {
   "cell_type": "code",
   "execution_count": 9,
   "metadata": {},
   "outputs": [
    {
     "name": "stdout",
     "output_type": "stream",
     "text": [
      "Enter the first word: mithila\n",
      "Enter the second word: zohora\n",
      "The strings have 2 matches\n"
     ]
    }
   ],
   "source": [
    "def matches(string1,string2):\n",
    "    \n",
    "    #initializing string1 and string2 as sets using in built set() function in the variables str1 and str2\n",
    "    str1 = set(string1)\n",
    "    str2 = set(string2)\n",
    "    \n",
    "    #comparing the set of strings using in built intersection() function\n",
    "    commonChar = set.intersection(str1, str2)\n",
    "    \n",
    "    #initializing the size of the matches found between the set of strings using len() function\n",
    "    matchSize=len(commonChar)\n",
    "                \n",
    "    return matchSize\n",
    "\n",
    "def main():\n",
    "    s1=raw_input(\"Enter the first word: \")\n",
    "    s2=raw_input(\"Enter the second word: \")\n",
    "    m=matches(s1,s2)\n",
    "    print(\"The strings have\") ,m, (\"matches\")\n",
    "main()"
   ]
  },
  {
   "cell_type": "code",
   "execution_count": null,
   "metadata": {},
   "outputs": [],
   "source": []
  }
 ],
 "metadata": {
  "kernelspec": {
   "display_name": "Python 2",
   "language": "python",
   "name": "python2"
  },
  "language_info": {
   "codemirror_mode": {
    "name": "ipython",
    "version": 2
   },
   "file_extension": ".py",
   "mimetype": "text/x-python",
   "name": "python",
   "nbconvert_exporter": "python",
   "pygments_lexer": "ipython2",
   "version": "2.7.15"
  }
 },
 "nbformat": 4,
 "nbformat_minor": 2
}
