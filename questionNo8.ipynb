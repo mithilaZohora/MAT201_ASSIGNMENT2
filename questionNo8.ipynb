{
 "cells": [
  {
   "cell_type": "markdown",
   "metadata": {},
   "source": [
    "8. Recall that if s is a string, then s.find( ' a ' ) will find the location of the first a in s . The problem is that it does not find the location of every a. Write a function called findall that given a string and a single character, returns a list containing all of the locations of that character in the string. It should return an empty list if there are no occurrences of the character in the string."
   ]
  },
  {
   "cell_type": "code",
   "execution_count": 8,
   "metadata": {},
   "outputs": [
    {
     "name": "stdout",
     "output_type": "stream",
     "text": [
      "Enter a String: mithila\n",
      "Enter the Character to find:a\n",
      "The position's of character a in the string is [6]\n"
     ]
    },
    {
     "data": {
      "text/plain": [
       "[6]"
      ]
     },
     "execution_count": 8,
     "metadata": {},
     "output_type": "execute_result"
    }
   ],
   "source": [
    "def findAll():\n",
    "    \n",
    "    index=0\n",
    "    #initializing a list for the characters in the string\n",
    "    charList=[]\n",
    "    \n",
    "    string=raw_input(\"Enter a String: \")\n",
    "    char=raw_input(\"Enter the Character to find:\")\n",
    "    \n",
    "    j=0\n",
    "    \n",
    "    #the for loop will reach each character of the string\n",
    "    for i in string:\n",
    "        if i==char:\n",
    "            \n",
    "            #inserting characters in the charList with individual position\n",
    "            charList.insert(index,j)\n",
    "            \n",
    "            #if one character is inserted then for the next character we change the position of the index adding 1\n",
    "            index=index+1\n",
    "        j=j+1\n",
    "                   \n",
    "    print(\"The position's of character\"),char,(\"in the string is\"),charList\n",
    "    \n",
    "    return charList\n",
    "\n",
    "findAll()\n"
   ]
  },
  {
   "cell_type": "code",
   "execution_count": null,
   "metadata": {},
   "outputs": [],
   "source": []
  }
 ],
 "metadata": {
  "kernelspec": {
   "display_name": "Python 2",
   "language": "python",
   "name": "python2"
  },
  "language_info": {
   "codemirror_mode": {
    "name": "ipython",
    "version": 2
   },
   "file_extension": ".py",
   "mimetype": "text/x-python",
   "name": "python",
   "nbconvert_exporter": "python",
   "pygments_lexer": "ipython2",
   "version": "2.7.15"
  }
 },
 "nbformat": 4,
 "nbformat_minor": 2
}
