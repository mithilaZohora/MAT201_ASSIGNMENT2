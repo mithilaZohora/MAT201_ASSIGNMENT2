{
 "cells": [
  {
   "cell_type": "markdown",
   "metadata": {},
   "source": [
    "7 Write a function called primes that is given a number n and returns a list of the first n primes. Let the default value of n be 100."
   ]
  },
  {
   "cell_type": "code",
   "execution_count": 10,
   "metadata": {},
   "outputs": [
    {
     "name": "stdout",
     "output_type": "stream",
     "text": [
      "Enetr a Number: 100\n",
      "The Prime Numbers are  [2, 3, 5, 7, 11, 13, 17, 19, 23, 29, 31, 37, 41, 43, 47, 53, 59, 61, 67, 71, 73, 79, 83, 89, 97]\n"
     ]
    },
    {
     "data": {
      "text/plain": [
       "[2,\n",
       " 3,\n",
       " 5,\n",
       " 7,\n",
       " 11,\n",
       " 13,\n",
       " 17,\n",
       " 19,\n",
       " 23,\n",
       " 29,\n",
       " 31,\n",
       " 37,\n",
       " 41,\n",
       " 43,\n",
       " 47,\n",
       " 53,\n",
       " 59,\n",
       " 61,\n",
       " 67,\n",
       " 71,\n",
       " 73,\n",
       " 79,\n",
       " 83,\n",
       " 89,\n",
       " 97]"
      ]
     },
     "execution_count": 10,
     "metadata": {},
     "output_type": "execute_result"
    }
   ],
   "source": [
    "def primes():\n",
    "    \n",
    "    index=0\n",
    "    #initializing default value of n as 100\n",
    "    n=100\n",
    "    \n",
    "    #declaring a list to store the prime numbers\n",
    "    primeList=[]\n",
    "    \n",
    "    \n",
    "    n=input(\"Enetr a Number: \")\n",
    "    \n",
    "    #as prime number starts from 2,we wil start the for loop from 2\n",
    "    for i in range(2,n):\n",
    "        \n",
    "        #assuming isPrime is true\n",
    "        isPrime= True\n",
    "        j=2\n",
    "        \n",
    "        #if isPrime is true and j is less than i,while loop will be executed\n",
    "        while isPrime==True and j<i:\n",
    "            if i%j==0:\n",
    "                #if i%j is 0 then isPirme will not be a prime number\n",
    "                isPrime= False\n",
    "            j=j+1\n",
    "    \n",
    "        if isPrime== True:\n",
    "            \n",
    "            #inserting the list of prime numbers to the primeList variable with in built insert() function\n",
    "            primeList.insert(index,i)\n",
    "            index=index+1\n",
    "        i=i+1\n",
    "        \n",
    "    print(\"The Prime Numbers are \") ,primeList\n",
    "    return primeList\n",
    "\n",
    "primes()\n"
   ]
  },
  {
   "cell_type": "code",
   "execution_count": null,
   "metadata": {},
   "outputs": [],
   "source": []
  }
 ],
 "metadata": {
  "kernelspec": {
   "display_name": "Python 2",
   "language": "python",
   "name": "python2"
  },
  "language_info": {
   "codemirror_mode": {
    "name": "ipython",
    "version": 2
   },
   "file_extension": ".py",
   "mimetype": "text/x-python",
   "name": "python",
   "nbconvert_exporter": "python",
   "pygments_lexer": "ipython2",
   "version": "2.7.15"
  }
 },
 "nbformat": 4,
 "nbformat_minor": 2
}
