{
 "cells": [
  {
   "cell_type": "markdown",
   "metadata": {},
   "source": [
    "5. Write a function that takes an integer n and returns a random integer with exactly n digits. For instance, if n is 3, then 125 and 593 would be valid return values, but 093 would not because that is really 93, which is a two-digit number."
   ]
  },
  {
   "cell_type": "code",
   "execution_count": 11,
   "metadata": {},
   "outputs": [
    {
     "name": "stdout",
     "output_type": "stream",
     "text": [
      "Enter the number of digits:5\n",
      "The Random Integer with 5 digit: 32681\n"
     ]
    },
    {
     "data": {
      "text/plain": [
       "32681"
      ]
     },
     "execution_count": 11,
     "metadata": {},
     "output_type": "execute_result"
    }
   ],
   "source": [
    "def randomInt():\n",
    "    \n",
    "    #taking digit for random integr\n",
    "    n=input(\"Enter the number of digits:\")\n",
    "    \n",
    "    low='1'\n",
    "    #initializing n number of values for variable low\n",
    "    for i in range(1,n):\n",
    "        low=low+'0'\n",
    "\n",
    "    high=low+'0'\n",
    "    low=int(low)\n",
    "    high=int(high)-1\n",
    "    \n",
    "    #importing random library to generate random integer; using low and high as its parameter \n",
    "    import random\n",
    "    rand=random.randint(low,high)\n",
    "    print('The Random Integer with') ,n,('digit:'),rand\n",
    "    return rand\n",
    "\n",
    "randomInt()"
   ]
  },
  {
   "cell_type": "code",
   "execution_count": null,
   "metadata": {},
   "outputs": [],
   "source": []
  }
 ],
 "metadata": {
  "kernelspec": {
   "display_name": "Python 2",
   "language": "python",
   "name": "python2"
  },
  "language_info": {
   "codemirror_mode": {
    "name": "ipython",
    "version": 2
   },
   "file_extension": ".py",
   "mimetype": "text/x-python",
   "name": "python",
   "nbconvert_exporter": "python",
   "pygments_lexer": "ipython2",
   "version": "2.7.15"
  }
 },
 "nbformat": 4,
 "nbformat_minor": 2
}
