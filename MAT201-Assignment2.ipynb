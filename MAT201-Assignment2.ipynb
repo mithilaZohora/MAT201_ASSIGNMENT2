{
 "cells": [
  {
   "cell_type": "markdown",
   "metadata": {},
   "source": [
    "1. Write a function called rectangle that takes two integers m and n as arguments and prints out an m × n box consisting of asterisks."
   ]
  },
  {
   "cell_type": "code",
   "execution_count": 11,
   "metadata": {},
   "outputs": [
    {
     "name": "stdout",
     "output_type": "stream",
     "text": [
      "Enter the width of the Rectangle 5\n",
      "Enter the length of the Rectangle 8\n",
      "* * * * * * * *  \n",
      "* * * * * * * *  \n",
      "* * * * * * * *  \n",
      "* * * * * * * *  \n",
      "* * * * * * * *  \n"
     ]
    }
   ],
   "source": [
    "#Rectangle is a function consisting of two parameters m and n\n",
    "\n",
    "def rectangle(m,n):\n",
    "    \n",
    " #m in the width and n is the length of the ractangle\n",
    "    for i in range(m):\n",
    "        for j in range(n):\n",
    "            print(\"*\"),\n",
    "        print(\" \")\n",
    "\n",
    "x=input(\"Enter the width of the Rectangle \")\n",
    "y=input(\"Enter the length of the Rectangle \")\n",
    "\n",
    "rectangle(x,y)"
   ]
  },
  {
   "cell_type": "code",
   "execution_count": null,
   "metadata": {},
   "outputs": [],
   "source": []
  }
 ],
 "metadata": {
  "kernelspec": {
   "display_name": "Python 2",
   "language": "python",
   "name": "python2"
  },
  "language_info": {
   "codemirror_mode": {
    "name": "ipython",
    "version": 2
   },
   "file_extension": ".py",
   "mimetype": "text/x-python",
   "name": "python",
   "nbconvert_exporter": "python",
   "pygments_lexer": "ipython2",
   "version": "2.7.15"
  }
 },
 "nbformat": 4,
 "nbformat_minor": 2
}
