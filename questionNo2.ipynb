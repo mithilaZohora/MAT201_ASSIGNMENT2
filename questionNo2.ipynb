{
 "cells": [
  {
   "cell_type": "markdown",
   "metadata": {},
   "source": [
    "2. Write a function called add_excitement that takes a list of strings and adds an exclamation point ( ! ) to the end of each string in the list. The program should modify the original list and not return anything."
   ]
  },
  {
   "cell_type": "code",
   "execution_count": 1,
   "metadata": {},
   "outputs": [
    {
     "name": "stdout",
     "output_type": "stream",
     "text": [
      "Enter the size of the list 4\n",
      "Enter the string abc\n",
      "Enter the string def\n",
      "Enter the string ghi\n",
      "Enter the string jkl\n",
      "['abc!', 'def!', 'ghi!', 'jkl!']\n"
     ]
    }
   ],
   "source": [
    "def add_excitement():\n",
    "    #taking the size of the list from user\n",
    "    listSize=input(\"Enter the size of the list \")\n",
    "    #stringList variable's index is multiplied by the user taken size to intialize the size of the list\n",
    "    stringList=['s']*listSize\n",
    "\n",
    "    #this for loop is to take the string from user that will run till the list's size\n",
    "    for i in range(len(stringList)):\n",
    "        stringList[i]=raw_input(\"Enter the string \")\n",
    "        i=i+1\n",
    "    \n",
    "    for j in range(len(stringList)):\n",
    "        stringList[j]=stringList[j]+\"!\"\n",
    "        j=j+1\n",
    "    print(stringList)\n",
    "\n",
    "\n",
    "add_excitement() "
   ]
  },
  {
   "cell_type": "code",
   "execution_count": null,
   "metadata": {},
   "outputs": [],
   "source": []
  }
 ],
 "metadata": {
  "kernelspec": {
   "display_name": "Python 2",
   "language": "python",
   "name": "python2"
  },
  "language_info": {
   "codemirror_mode": {
    "name": "ipython",
    "version": 2
   },
   "file_extension": ".py",
   "mimetype": "text/x-python",
   "name": "python",
   "nbconvert_exporter": "python",
   "pygments_lexer": "ipython2",
   "version": "2.7.15"
  }
 },
 "nbformat": 4,
 "nbformat_minor": 2
}
