{
 "cells": [
  {
   "cell_type": "markdown",
   "metadata": {},
   "source": [
    "3. Write the same function except that it should not modify the original list and should instead return a new list."
   ]
  },
  {
   "cell_type": "code",
   "execution_count": 6,
   "metadata": {},
   "outputs": [
    {
     "name": "stdout",
     "output_type": "stream",
     "text": [
      "Enter the size of the list 3\n",
      "Enter the string fatima\n",
      "Enter the string tuz\n",
      "Enter the string zohora\n",
      "The new List\n",
      "['fatima!', 'tuz!', 'zohora!']\n"
     ]
    }
   ],
   "source": [
    "def add_excitement():\n",
    "    #taking the size of the list from user\n",
    "    listSize=input(\"Enter the size of the list \")\n",
    "    #stringList variable's index is multiplied by the user taken size to intialize the size of the list\n",
    "    stringList=['s']*listSize\n",
    "\n",
    "    #this for loop is to take the string from user that will run till the list's size\n",
    "    for i in range(len(stringList)):\n",
    "        stringList[i]=raw_input(\"Enter the string \")\n",
    "        i=i+1\n",
    "    #initializing the newList with the values of stringList\n",
    "    newList=stringList\n",
    "    #adding exclamation mark at the end of each string in newList\n",
    "    for j in range(len(newList)):\n",
    "         newList[j]=newList[j]+\"!\"\n",
    "         j=j+1\n",
    "    \n",
    "    print(\"The new List\")\n",
    "    print(newList)\n",
    "    \n",
    "    return newList\n",
    "newList=add_excitement()\n"
   ]
  },
  {
   "cell_type": "code",
   "execution_count": null,
   "metadata": {},
   "outputs": [],
   "source": []
  }
 ],
 "metadata": {
  "kernelspec": {
   "display_name": "Python 2",
   "language": "python",
   "name": "python2"
  },
  "language_info": {
   "codemirror_mode": {
    "name": "ipython",
    "version": 2
   },
   "file_extension": ".py",
   "mimetype": "text/x-python",
   "name": "python",
   "nbconvert_exporter": "python",
   "pygments_lexer": "ipython2",
   "version": "2.7.15"
  }
 },
 "nbformat": 4,
 "nbformat_minor": 2
}
